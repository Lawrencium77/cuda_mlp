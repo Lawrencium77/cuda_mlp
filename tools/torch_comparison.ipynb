{
 "cells": [
  {
   "cell_type": "code",
   "execution_count": null,
   "metadata": {
    "output": {
     "id": 2691166634425212,
     "loadingStatus": "loaded"
    }
   },
   "outputs": [],
   "source": [
    "from pathlib import Path\n",
    "import time\n",
    "from typing import Tuple\n",
    "\n",
    "import torch\n",
    "import torch.nn as nn\n",
    "import torch.optim as optim\n",
    "from torch.utils.data import DataLoader\n",
    "from torchvision import datasets, transforms"
   ]
  },
  {
   "cell_type": "code",
   "execution_count": null,
   "metadata": {},
   "outputs": [],
   "source": [
    "INPUT_DIM = 784\n",
    "FEAT_DIM = 256\n",
    "NUM_EPOCHS = 10\n",
    "NUM_LAYERS = 4\n",
    "BATCH_SIZE = 64\n",
    "LEARNING_RATE = 0.1"
   ]
  },
  {
   "cell_type": "code",
   "execution_count": null,
   "metadata": {},
   "outputs": [],
   "source": [
    "class MLP(nn.Module):\n",
    "    def __init__(self, input_dim: int, feat_dim: int, num_layers: int) -> None:\n",
    "        super(MLP, self).__init__()\n",
    "        layers = []\n",
    "\n",
    "        layers.append(nn.Linear(input_dim, feat_dim))\n",
    "        layers.append(nn.ReLU())\n",
    "\n",
    "        for i in range(num_layers - 2):\n",
    "            layers.append(nn.Linear(feat_dim, feat_dim))\n",
    "            layers.append(nn.ReLU())\n",
    "\n",
    "        layers.append(nn.Linear(feat_dim, 10))\n",
    "\n",
    "        self.model = nn.Sequential(*layers)\n",
    "\n",
    "    def forward(self, x: torch.Tensor) -> torch.Tensor:\n",
    "        return self.model(x.view(x.size(0), -1))\n"
   ]
  },
  {
   "cell_type": "code",
   "execution_count": null,
   "metadata": {},
   "outputs": [],
   "source": [
    "def get_dataloaders(data_dir: Path) -> Tuple[DataLoader, DataLoader]:\n",
    "    transform = transform = transforms.ToTensor() # Normalise between 0 and 1\n",
    "    train_data = datasets.MNIST(\n",
    "        data_dir, train=True, download=True, transform=transform\n",
    "    )\n",
    "    val_data = datasets.MNIST(\n",
    "        data_dir, train=False, download=True, transform=transform\n",
    "    )\n",
    "    train_loader = DataLoader(train_data, batch_size=BATCH_SIZE, shuffle=True)\n",
    "    val_loader = DataLoader(val_data, batch_size=BATCH_SIZE, shuffle=False)\n",
    "    return train_loader, val_loader"
   ]
  },
  {
   "cell_type": "code",
   "execution_count": null,
   "metadata": {},
   "outputs": [],
   "source": [
    "def validate(\n",
    "    val_loader: DataLoader,\n",
    "    model: nn.Module,\n",
    "    criterion: nn.Module,\n",
    ") -> float:\n",
    "    model.eval()\n",
    "    val_loss = 0.0\n",
    "    with torch.no_grad():\n",
    "        for images, labels in val_loader:\n",
    "            outputs = model(images.cuda())\n",
    "            loss = criterion(outputs, labels.cuda())\n",
    "            val_loss += loss.item()\n",
    "\n",
    "    val_loss /= len(val_loader)\n",
    "    return val_loss"
   ]
  },
  {
   "cell_type": "code",
   "execution_count": null,
   "metadata": {},
   "outputs": [],
   "source": [
    "def train_loop(\n",
    "    train_loader: DataLoader,\n",
    "    val_loader: DataLoader,\n",
    "    model: nn.Module,\n",
    "    criterion: nn.Module,\n",
    "    optimizer: optim.Optimizer,\n",
    "    log_filepath: Path,\n",
    "    verbose: bool,\n",
    ") -> None:\n",
    "    with log_filepath.open(\"w\") as f:\n",
    "        for epoch in range(NUM_EPOCHS):\n",
    "            start = time.time()\n",
    "            model.train()\n",
    "            for images, labels in train_loader:\n",
    "                optimizer.zero_grad()\n",
    "                outputs = model(images.cuda())\n",
    "                loss = criterion(outputs, labels.cuda())\n",
    "                f.write(f\"{loss.item()}\\n\")\n",
    "                loss.backward()\n",
    "                optimizer.step()\n",
    "\n",
    "            val_loss = validate(val_loader, model, criterion)\n",
    "            print(\n",
    "                f\"Epoch {epoch + 1}/{NUM_EPOCHS}, \"\n",
    "                f\"Val Loss: {val_loss:.4f}, \"\n",
    "                f\"Duration: {time.time() - start:.2f}s\"\n",
    "            )"
   ]
  },
  {
   "cell_type": "code",
   "execution_count": null,
   "metadata": {},
   "outputs": [],
   "source": [
    "def main(data_dir: Path, log_file: Path, verbose: bool) -> None:\n",
    "    train_loader, val_loader = get_dataloaders(data_dir)\n",
    "    model = MLP(INPUT_DIM, FEAT_DIM, NUM_LAYERS).cuda()\n",
    "    model = torch.compile(model)\n",
    "    criterion = nn.CrossEntropyLoss()\n",
    "    optimizer = optim.SGD(model.parameters(), lr=LEARNING_RATE)\n",
    "\n",
    "    train_loop(train_loader, val_loader, model, criterion, optimizer, log_file, verbose)\n",
    "    print(\"Training complete.\")"
   ]
  },
  {
   "cell_type": "code",
   "execution_count": null,
   "metadata": {},
   "outputs": [],
   "source": [
    "data_dir = \"\"  # Fill me out\n",
    "log_file = Path(\"\")  # Fill me out\n",
    "log_file.parent.mkdir(parents=True, exist_ok=True)\n",
    "verbose = False  # Whether to save train losses to log file\n",
    "main(data_dir, log_file, verbose)"
   ]
  }
 ],
 "metadata": {
  "fileHeader": "",
  "fileUid": "5b8dd2b3-1cf8-4d36-a2c6-761861331572",
  "isAdHoc": false,
  "kernelspec": {
   "display_name": "ai_bggen",
   "language": "python",
   "name": "bento_kernel_ai_bggen"
  },
  "orig_nbformat": 4
 },
 "nbformat": 4,
 "nbformat_minor": 2
}
